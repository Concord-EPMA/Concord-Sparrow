{
 "cells": [
  {
   "cell_type": "code",
   "execution_count": null,
   "id": "0d8020f9",
   "metadata": {},
   "outputs": [],
   "source": [
    "from math import isnan\n",
    "from click import secho, echo, style\n",
    "from pandas import concat, to_numeric\n",
    "import seaborn as sns\n",
    "import numpy as np\n",
    "import matplotlib.pyplot as plt\n",
    "%matplotlib inline\n",
    "import pandas as pd\n",
    "from pandas import Series,DataFrame\n",
    "from sklearn.datasets import load_digits\n",
    "from sklearn import datasets, svm, metrics\n",
    "import os\n",
    "import re"
   ]
  },
  {
   "cell_type": "code",
   "execution_count": null,
   "id": "05e9d022",
   "metadata": {},
   "outputs": [],
   "source": [
    "import pandas as pd\n",
    "\n",
    "github_raw_url = \"https://github.com/diegomartiperez/Sparrow-data/raw/main/2021-03%20(Mar%208-)%20processed%20with%20EC%20format.xlsx\""
   ]
  },
  {
   "cell_type": "code",
   "execution_count": null,
   "id": "20a4bbc7",
   "metadata": {},
   "outputs": [],
   "source": [
    "df = pd.read_excel(github_raw_url, skiprows = 1)"
   ]
  },
  {
   "cell_type": "code",
   "execution_count": null,
   "id": "f7f549a4",
   "metadata": {},
   "outputs": [],
   "source": [
    "#import pandas as pd\n",
    "df.drop(df.columns[df.columns.str.contains('Unnamed',case = False)],axis = 1, inplace = True)\n",
    "for col in df.columns:\n",
    "    print(col)\n",
    "#print(pd.read_excel(github_raw_url,skiprows=1).columns)"
   ]
  },
  {
   "cell_type": "code",
   "execution_count": null,
   "id": "5e8f03be",
   "metadata": {},
   "outputs": [],
   "source": [
    "df2 = pd.read_excel('Tephra sample catalog - Concord.xls', skiprows = 1)\n",
    "df2.drop(df2.columns[df2.columns.str.contains('Unnamed',case = False)],axis = 1, inplace = True)\n",
    "for col in df2.columns:\n",
    "    print(col)\n",
    "\n",
    "#print((df2,skiprows=1).columns)"
   ]
  },
  {
   "cell_type": "code",
   "execution_count": null,
   "id": "e371a279",
   "metadata": {},
   "outputs": [],
   "source": [
    "df3 = pd.read_excel('Tephra Runs list and processing4c.xlsx', skiprows = 2)\n",
    "df3.drop(df3.columns[df3.columns.str.contains('Unnamed',case = False)],axis = 1, inplace = True)\n",
    "for col in df3.columns:\n",
    "    print(col)"
   ]
  },
  {
   "cell_type": "code",
   "execution_count": null,
   "id": "c233757e",
   "metadata": {},
   "outputs": [],
   "source": [
    "df4 = pd.read_excel('Tephra Mount Catalog.xlsx', skiprows = 6)\n",
    "df4.drop(df4.columns[df4.columns.str.contains('Unnamed',case = False)],axis = 1, inplace = True)\n",
    "for col in df4.columns:\n",
    "    print(col)"
   ]
  },
  {
   "cell_type": "code",
   "execution_count": null,
   "id": "505d796c",
   "metadata": {},
   "outputs": [],
   "source": [
    "df5 = pd.read_excel('SESAR_Tephra_Submission_Template_Summer Lake Pliocene2.xls')\n",
    "df5.drop(df5.columns[df5.columns.str.contains('Unnamed',case = False)],axis = 1, inplace = True)\n",
    "for col in df5.columns:\n",
    "    print(col)"
   ]
  },
  {
   "cell_type": "code",
   "execution_count": null,
   "id": "55e56126",
   "metadata": {},
   "outputs": [],
   "source": [
    "df6 = pd.read_excel('Example StraboSpot_Output_09_02_2021.xlsx', skiprows = 3)\n",
    "df6.drop(df6.columns[df6.columns.str.contains('Unnamed',case = False)],axis = 1, inplace = True)\n",
    "for col in df6.columns:\n",
    "    print(col)"
   ]
  },
  {
   "cell_type": "code",
   "execution_count": null,
   "id": "94e3be4c",
   "metadata": {},
   "outputs": [],
   "source": []
  }
 ],
 "metadata": {
  "kernelspec": {
   "display_name": "Python 3",
   "language": "python",
   "name": "python3"
  },
  "language_info": {
   "codemirror_mode": {
    "name": "ipython",
    "version": 3
   },
   "file_extension": ".py",
   "mimetype": "text/x-python",
   "name": "python",
   "nbconvert_exporter": "python",
   "pygments_lexer": "ipython3",
   "version": "3.9.6"
  }
 },
 "nbformat": 4,
 "nbformat_minor": 5
}
