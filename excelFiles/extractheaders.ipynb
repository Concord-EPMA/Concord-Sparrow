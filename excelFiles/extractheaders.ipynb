{
 "cells": [
  {
   "cell_type": "code",
   "execution_count": 2,
   "id": "0d8020f9",
   "metadata": {},
   "outputs": [
    {
     "ename": "ModuleNotFoundError",
     "evalue": "No module named 'click'",
     "output_type": "error",
     "traceback": [
      "\u001b[0;31m---------------------------------------------------------------------------\u001b[0m",
      "\u001b[0;31mModuleNotFoundError\u001b[0m                       Traceback (most recent call last)",
      "\u001b[0;32m/var/folders/0g/bk2llyqs1hz06zjf7twlgbs40000gn/T/ipykernel_56107/282677763.py\u001b[0m in \u001b[0;36m<module>\u001b[0;34m\u001b[0m\n\u001b[1;32m      1\u001b[0m \u001b[0;32mfrom\u001b[0m \u001b[0mmath\u001b[0m \u001b[0;32mimport\u001b[0m \u001b[0misnan\u001b[0m\u001b[0;34m\u001b[0m\u001b[0;34m\u001b[0m\u001b[0m\n\u001b[0;32m----> 2\u001b[0;31m \u001b[0;32mfrom\u001b[0m \u001b[0mclick\u001b[0m \u001b[0;32mimport\u001b[0m \u001b[0msecho\u001b[0m\u001b[0;34m,\u001b[0m \u001b[0mecho\u001b[0m\u001b[0;34m,\u001b[0m \u001b[0mstyle\u001b[0m\u001b[0;34m\u001b[0m\u001b[0;34m\u001b[0m\u001b[0m\n\u001b[0m\u001b[1;32m      3\u001b[0m \u001b[0;32mfrom\u001b[0m \u001b[0mpandas\u001b[0m \u001b[0;32mimport\u001b[0m \u001b[0mconcat\u001b[0m\u001b[0;34m,\u001b[0m \u001b[0mto_numeric\u001b[0m\u001b[0;34m\u001b[0m\u001b[0;34m\u001b[0m\u001b[0m\n\u001b[1;32m      4\u001b[0m \u001b[0;32mimport\u001b[0m \u001b[0mseaborn\u001b[0m \u001b[0;32mas\u001b[0m \u001b[0msns\u001b[0m\u001b[0;34m\u001b[0m\u001b[0;34m\u001b[0m\u001b[0m\n\u001b[1;32m      5\u001b[0m \u001b[0;32mimport\u001b[0m \u001b[0mnumpy\u001b[0m \u001b[0;32mas\u001b[0m \u001b[0mnp\u001b[0m\u001b[0;34m\u001b[0m\u001b[0;34m\u001b[0m\u001b[0m\n",
      "\u001b[0;31mModuleNotFoundError\u001b[0m: No module named 'click'"
     ]
    }
   ],
   "source": [
    "from math import isnan\n",
    "from click import secho, echo, style\n",
    "from pandas import concat, to_numeric\n",
    "import seaborn as sns\n",
    "import numpy as np\n",
    "import matplotlib.pyplot as plt\n",
    "%matplotlib inline\n",
    "import pandas as pd\n",
    "from pandas import Series,DataFrame\n",
    "from sklearn.datasets import load_digits\n",
    "from sklearn import datasets, svm, metrics\n",
    "import os\n",
    "import re"
   ]
  },
  {
   "cell_type": "code",
   "execution_count": null,
   "id": "05e9d022",
   "metadata": {},
   "outputs": [],
   "source": [
    "import pandas as pd\n",
    "\n",
    "github_raw_url = \"https://github.com/diegomartiperez/Sparrow-data/raw/main/2021-03%20(Mar%208-)%20processed%20with%20EC%20format.xlsx\""
   ]
  },
  {
   "cell_type": "code",
   "execution_count": null,
   "id": "20a4bbc7",
   "metadata": {},
   "outputs": [],
   "source": [
    "df = pd.read_excel(github_raw_url, skiprows = 1)"
   ]
  },
  {
   "cell_type": "code",
   "execution_count": null,
   "id": "f7f549a4",
   "metadata": {},
   "outputs": [
    {
     "data": {
      "text/plain": [
       "Index(['This row has  field names', 'SAMPLE ID', 'IGSN', 'ANALYZED MATERIAL',\n",
       "       'ANALYZED AS REFERENCE MATERIAL? Y/N', 'Sample Description',\n",
       "       'Sample Mount Name', 'Data Point Notes', 'Grain Description',\n",
       "       'Grain Number', 'Population Number', 'Source Volcano or Vent',\n",
       "       'Tephra Name', 'GVP Volcano Number', 'GVP Event or Episode ID',\n",
       "       'Analyst', 'ANALYSIS DATE\\n and TIME', 'ANALYTICAL SESSION ID',\n",
       "       'Beam Diameter', 'NUMBER OF ANALYSES', 'DATA LINE TYPE', 'SiO2 norm',\n",
       "       'TiO2 norm', 'Al2O3', 'FeO', 'MnO', 'MgO', 'CaO', 'Na2O', 'K2O', 'P2O5',\n",
       "       'Cl', 'BaO', 'ORIGINAL TOTAL', 'Na-TDI%', 'K-TDI%', 'X', 'SiO2', 'Cl.1',\n",
       "       'Y', 'Analysis Line Number reported by the instrument software',\n",
       "       'Sample Label in the Instrument Software; Notes; Comments',\n",
       "       'SiO2 adj unnorm', 'TiO2 adj unnorm', 'Al2O3 adj unnorm',\n",
       "       'FeO adj unnorm', 'MnO adj unnorm', 'MgO adj unnorm', 'CaO adj unnorm',\n",
       "       'Na2O adj unnorm', 'K2O adj unnorm', 'P2O5 adj unnorm', 'Cl adj unnorm',\n",
       "       'BaO adj unnorm', 'ORIGINAL TOTAL.1', 'H2Od',\n",
       "       'Analysis Line Number reported by the instrument software.1',\n",
       "       'Sample Label in the Instrument Software; Notes; Comments.1',\n",
       "       'SiO2 blank only', 'TiO2 blank only', 'Al2O3 blank only',\n",
       "       'FeO blank only', 'MnO blank only', 'MgO blank only', 'CaO blank only',\n",
       "       'Na2O blank only', 'K2O blank only', 'P2O5 blank only', 'Cl blank only',\n",
       "       'BaO blank only', 'ORIGINAL TOTAL.2', 'X-POS', 'Y-POS', 'Z-POS'],\n",
       "      dtype='object')"
      ]
     },
     "execution_count": 16,
     "metadata": {},
     "output_type": "execute_result"
    }
   ],
   "source": [
    "#import pandas as pd\n",
    "df.drop(df.columns[df.columns.str.contains('Unnamed',case = False)],axis = 1, inplace = True)\n",
    "for col in df.columns:\n",
    "    print(col)\n",
    "#print(pd.read_excel(github_raw_url,skiprows=1).columns)"
   ]
  },
  {
   "cell_type": "code",
   "execution_count": null,
   "id": "5e8f03be",
   "metadata": {},
   "outputs": [
    {
     "data": {
      "text/plain": [
       "Index(['This row has  field names', 'SAMPLE ID', 'IGSN', 'ANALYZED MATERIAL',\n",
       "       'ANALYZED AS REFERENCE MATERIAL? Y/N', 'Sample Description',\n",
       "       'Sample Mount Name', 'Data Point Notes', 'Grain Description',\n",
       "       'Grain Number', 'Population Number', 'Source Volcano or Vent',\n",
       "       'Tephra Name', 'GVP Volcano Number', 'GVP Event or Episode ID',\n",
       "       'Analyst', 'ANALYSIS DATE\\n and TIME', 'ANALYTICAL SESSION ID',\n",
       "       'Beam Diameter', 'NUMBER OF ANALYSES', 'DATA LINE TYPE', 'SiO2 norm',\n",
       "       'TiO2 norm', 'Al2O3', 'FeO', 'MnO', 'MgO', 'CaO', 'Na2O', 'K2O', 'P2O5',\n",
       "       'Cl', 'BaO', 'ORIGINAL TOTAL', 'Na-TDI%', 'K-TDI%', 'X', 'SiO2', 'Cl.1',\n",
       "       'Y', 'Analysis Line Number reported by the instrument software',\n",
       "       'Sample Label in the Instrument Software; Notes; Comments',\n",
       "       'SiO2 adj unnorm', 'TiO2 adj unnorm', 'Al2O3 adj unnorm',\n",
       "       'FeO adj unnorm', 'MnO adj unnorm', 'MgO adj unnorm', 'CaO adj unnorm',\n",
       "       'Na2O adj unnorm', 'K2O adj unnorm', 'P2O5 adj unnorm', 'Cl adj unnorm',\n",
       "       'BaO adj unnorm', 'ORIGINAL TOTAL.1', 'H2Od',\n",
       "       'Analysis Line Number reported by the instrument software.1',\n",
       "       'Sample Label in the Instrument Software; Notes; Comments.1',\n",
       "       'SiO2 blank only', 'TiO2 blank only', 'Al2O3 blank only',\n",
       "       'FeO blank only', 'MnO blank only', 'MgO blank only', 'CaO blank only',\n",
       "       'Na2O blank only', 'K2O blank only', 'P2O5 blank only', 'Cl blank only',\n",
       "       'BaO blank only', 'ORIGINAL TOTAL.2', 'X-POS', 'Y-POS', 'Z-POS'],\n",
       "      dtype='object')"
      ]
     },
     "execution_count": 17,
     "metadata": {},
     "output_type": "execute_result"
    }
   ],
   "source": [
    "df2 = pd.read_excel('Tephra sample catalog - Concord.xls', skiprows = 1)\n",
    "df2.drop(df2.columns[df2.columns.str.contains('Unnamed',case = False)],axis = 1, inplace = True)\n",
    "for col in df2.columns:\n",
    "    print(col)\n",
    "\n",
    "#print((df2,skiprows=1).columns)"
   ]
  },
  {
   "cell_type": "code",
   "execution_count": null,
   "id": "e371a279",
   "metadata": {},
   "outputs": [
    {
     "data": {
      "text/plain": [
       "Index(['Year and Analytical Session', 'Session ID', 'Analytical method',\n",
       "       'Session ID column, etc. added',\n",
       "       'Blank Column J added (between beam and line)',\n",
       "       'Columns Added To \"Normalized and Corrected\" tab',\n",
       "       'Prelim Data, Analysts, Etc. Copied to \"Normalized and Corrected\" tab',\n",
       "       'Data Transferred from Preliminary Sheet',\n",
       "       'Sample notes & populations filled in',\n",
       "       'Na, K ( Si, Al) TDI included with processed results',\n",
       "       'Session ID column filled in', 'Analyst filled in',\n",
       "       'Catalog Number & Mount ID column filled in',\n",
       "       'Completed Processing Sheet', 'Checked and Compiled', 'Notes',\n",
       "       'Newest Data File', 'Procedural Changes',\n",
       "       'Results exported with updated processing',\n",
       "       'Checked that Drift Correction on Standdards is Enabled',\n",
       "       'Data in new blank-adjusting spreadsheet',\n",
       "       'New NKT Check (pre Apr 2013 only)', 'New BG Offset Formulas - Part 1',\n",
       "       'New NKT, BHVO, Orth, Qtz reference (2 places)',\n",
       "       'New BG Adjust Formulas - Part 2', 'New BG Adjust Formulas - Part 3',\n",
       "       'Export Date', 'In Processing Sheet (revision date)'],\n",
       "      dtype='object')"
      ]
     },
     "execution_count": 19,
     "metadata": {},
     "output_type": "execute_result"
    }
   ],
   "source": [
    "df3 = pd.read_excel('Tephra Runs list and processing4c.xlsx', skiprows = 2)\n",
    "df3.drop(df3.columns[df3.columns.str.contains('Unnamed',case = False)],axis = 1, inplace = True)\n",
    "for col in df3.columns:\n",
    "    print(col)"
   ]
  },
  {
   "cell_type": "code",
   "execution_count": null,
   "id": "c233757e",
   "metadata": {},
   "outputs": [
    {
     "data": {
      "text/plain": [
       "Index(['Mount ID', 'Mount Type (4-hole, 3-hole, rock chips)',\n",
       "       'Position on Mount', 'CU Number of sample', 'Date Mounted',\n",
       "       'Mounted by', 'Size Fraction Mounted (micron range or bulk)',\n",
       "       'Density fraction mounted (density range or bulk)',\n",
       "       'checked with log book', 'checked physical mount?',\n",
       "       'Crushed prior to other preparation? \\n(Y/N)',\n",
       "       'Treated with dilute HCl (<5%) to remove carbonates?',\n",
       "       'Treated with dilute Alconox (<1%) to remove clays, etc.',\n",
       "       'Treated with dilute H2O2 (<10%) to remove organics', 'Wet Sieved',\n",
       "       'Density separations with 2.5 g/cm3 LST',\n",
       "       'Density separations with 2.8 g/cm3 LST',\n",
       "       'Resulting fractions and notes'],\n",
       "      dtype='object')"
      ]
     },
     "execution_count": 29,
     "metadata": {},
     "output_type": "execute_result"
    }
   ],
   "source": [
    "df4 = pd.read_excel('Tephra Mount Catalog.xlsx', skiprows = 6)\n",
    "df4.drop(df4.columns[df4.columns.str.contains('Unnamed',case = False)],axis = 1, inplace = True)\n",
    "for col in df4.columns:\n",
    "    print(col)"
   ]
  },
  {
   "cell_type": "code",
   "execution_count": null,
   "id": "505d796c",
   "metadata": {},
   "outputs": [
    {
     "data": {
      "text/plain": [
       "Index(['Tephra Collection'], dtype='object')"
      ]
     },
     "execution_count": 47,
     "metadata": {},
     "output_type": "execute_result"
    }
   ],
   "source": [
    "df5 = pd.read_excel('SESAR_Tephra_Submission_Template_Summer Lake Pliocene2.xls')\n",
    "df5.drop(df5.columns[df5.columns.str.contains('Unnamed',case = False)],axis = 1, inplace = True)\n",
    "for col in df5.columns:\n",
    "    print(col)"
   ]
  },
  {
   "cell_type": "code",
   "execution_count": null,
   "id": "55e56126",
   "metadata": {},
   "outputs": [
    {
     "data": {
      "text/plain": [
       "Index(['Name', 'Date', 'Self', 'Notes', 'Real World Coordinates',\n",
       "       'Pixel Coordinates', 'Latitude', 'Longitude', 'Altitude(m)',\n",
       "       'Planar Orientation Strike', 'Planar Orientation Dip Direction',\n",
       "       'Planar Orientation Dip', 'Planar Orientation Label',\n",
       "       'Sample Sample Type', 'Sample Sample Id Name',\n",
       "       'Sample Main Sampling Purpose', 'Sample Deposit Thickness',\n",
       "       'Sample Sample Description', 'Sample Material Type',\n",
       "       'Sample Sample Type 1', 'Sample Sample Type 2', 'Sample Color',\n",
       "       'Sample Sample Unit', 'Sample Inplaceness Of Sample', 'Sample Label',\n",
       "       'Sample Sample Size', 'Sample Degree Of Weathering',\n",
       "       'Sample Sample Notes'],\n",
       "      dtype='object')"
      ]
     },
     "execution_count": 42,
     "metadata": {},
     "output_type": "execute_result"
    }
   ],
   "source": [
    "df6 = pd.read_excel('Example StraboSpot_Output_09_02_2021.xlsx', skiprows = 3)\n",
    "df6.drop(df6.columns[df6.columns.str.contains('Unnamed',case = False)],axis = 1, inplace = True)\n",
    "for col in df6.columns:\n",
    "    print(col)"
   ]
  },
  {
   "cell_type": "code",
   "execution_count": null,
   "id": "94e3be4c",
   "metadata": {},
   "outputs": [],
   "source": []
  }
 ],
 "metadata": {
  "kernelspec": {
   "display_name": "Python 3",
   "language": "python",
   "name": "python3"
  },
  "language_info": {
   "codemirror_mode": {
    "name": "ipython",
    "version": 3
   },
   "file_extension": ".py",
   "mimetype": "text/x-python",
   "name": "python",
   "nbconvert_exporter": "python",
   "pygments_lexer": "ipython3",
   "version": "3.9.6"
  }
 },
 "nbformat": 4,
 "nbformat_minor": 5
}
